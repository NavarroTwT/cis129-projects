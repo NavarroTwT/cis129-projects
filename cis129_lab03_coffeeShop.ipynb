{
 "cells": [
  {
   "cell_type": "code",
   "execution_count": 73,
   "id": "2294a7b1-4d90-46fe-8a09-0b686e62e3d4",
   "metadata": {},
   "outputs": [
    {
     "name": "stdout",
     "output_type": "stream",
     "text": [
      "***************************************\n",
      "My Coffee and Muffin Shop\n"
     ]
    },
    {
     "name": "stdin",
     "output_type": "stream",
     "text": [
      "Number of coffees bought?\n",
      " 1\n",
      "Number of muffins bought?\n",
      " 2\n"
     ]
    },
    {
     "name": "stdout",
     "output_type": "stream",
     "text": [
      "***************************************\n",
      "\n",
      "***************************************\n",
      "My Coffee and Muffin Shop Receipt\n",
      "1 Coffee at $ 5 each: $ 5\n",
      "2 Muffins at $ 4 each: $ 8\n",
      "6% tax: $ 0.78\n",
      "---------\n",
      "Total: $ 13.78\n",
      "***************************************\n"
     ]
    }
   ],
   "source": [
    "# My Coffee and Muffin Shop\n",
    "# This program calculates and displays the receipt for coffee and muffin purchases,\n",
    "# including itemized costs, tax, and the total amount.\n",
    "\n",
    "# Declare variables and constants\n",
    "priceOfCoffee = 5\n",
    "priceOfMuffin = 4\n",
    "taxPercent = 0.06\n",
    "\n",
    "\n",
    "# Get input from customer\n",
    "print('***************************************')\n",
    "print('My Coffee and Muffin Shop')\n",
    "\n",
    "# Get input for the number of coffees and muffins\n",
    "coffee_amt = int(input('Number of coffees bought?\\n'))\n",
    "muffin_amt = int(input('Number of muffins bought?\\n'))\n",
    "print('***************************************')\n",
    "\n",
    "\n",
    "# Calculating costs\n",
    "coffeeTotal = coffee_amt * priceOfCoffee\n",
    "muffinTotal = muffin_amt * priceOfMuffin\n",
    "tax = (coffeeTotal + muffinTotal) * taxPercent\n",
    "totalCost = coffeeTotal + muffinTotal + tax\n",
    "\n",
    "\n",
    "# Display the receipt to the customer\n",
    "print('\\n***************************************')\n",
    "print('My Coffee and Muffin Shop Receipt')\n",
    "\n",
    "# Display the individual item costs\n",
    "print(coffee_amt,'Coffee at $',priceOfCoffee,'each: $',coffeeTotal)\n",
    "print(muffin_amt,'Muffins at $',priceOfMuffin,'each: $',muffinTotal)\n",
    "print('6% tax: $',tax)\n",
    "\n",
    "# Display the total cost\n",
    "print('---------')\n",
    "print('Total: $',totalCost)\n",
    "print('***************************************')"
   ]
  },
  {
   "cell_type": "code",
   "execution_count": null,
   "id": "e9ea9b0f-71eb-4f4e-9262-24ddcc8d4fa5",
   "metadata": {},
   "outputs": [],
   "source": []
  }
 ],
 "metadata": {
  "kernelspec": {
   "display_name": "Python 3 (ipykernel)",
   "language": "python",
   "name": "python3"
  },
  "language_info": {
   "codemirror_mode": {
    "name": "ipython",
    "version": 3
   },
   "file_extension": ".py",
   "mimetype": "text/x-python",
   "name": "python",
   "nbconvert_exporter": "python",
   "pygments_lexer": "ipython3",
   "version": "3.11.7"
  }
 },
 "nbformat": 4,
 "nbformat_minor": 5
}
